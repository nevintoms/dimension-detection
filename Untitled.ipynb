{
 "cells": [
  {
   "cell_type": "code",
   "execution_count": 1,
   "id": "9eb48a11",
   "metadata": {},
   "outputs": [],
   "source": [
    "import cv2\n",
    "import matplotlib.pyplot as plt"
   ]
  },
  {
   "cell_type": "code",
   "execution_count": 2,
   "id": "506263c0",
   "metadata": {},
   "outputs": [
    {
     "ename": "TypeError",
     "evalue": "on_change must be callable",
     "output_type": "error",
     "traceback": [
      "\u001b[1;31m---------------------------------------------------------------------------\u001b[0m",
      "\u001b[1;31mTypeError\u001b[0m                                 Traceback (most recent call last)",
      "Cell \u001b[1;32mIn[2], line 6\u001b[0m\n\u001b[0;32m      4\u001b[0m cv2\u001b[38;5;241m.\u001b[39mnamedWindow(\u001b[38;5;124m\"\u001b[39m\u001b[38;5;124mParameters\u001b[39m\u001b[38;5;124m\"\u001b[39m)\n\u001b[0;32m      5\u001b[0m cv2\u001b[38;5;241m.\u001b[39mresizeWindow(\u001b[38;5;124m\"\u001b[39m\u001b[38;5;124mParameters\u001b[39m\u001b[38;5;124m\"\u001b[39m, \u001b[38;5;241m640\u001b[39m, \u001b[38;5;241m240\u001b[39m)\n\u001b[1;32m----> 6\u001b[0m cv2\u001b[38;5;241m.\u001b[39mcreateTrackbar(\u001b[38;5;124m\"\u001b[39m\u001b[38;5;124mThreshold1\u001b[39m\u001b[38;5;124m\"\u001b[39m, \u001b[38;5;124m\"\u001b[39m\u001b[38;5;124mParameters\u001b[39m\u001b[38;5;124m\"\u001b[39m, \u001b[38;5;241m150\u001b[39m, \u001b[38;5;241m255\u001b[39m, empty())\n\u001b[0;32m      7\u001b[0m cv2\u001b[38;5;241m.\u001b[39mcreateTrackbar(\u001b[38;5;124m\"\u001b[39m\u001b[38;5;124mThreshold2\u001b[39m\u001b[38;5;124m\"\u001b[39m, \u001b[38;5;124m\"\u001b[39m\u001b[38;5;124mParameters\u001b[39m\u001b[38;5;124m\"\u001b[39m, \u001b[38;5;241m255\u001b[39m, \u001b[38;5;241m255\u001b[39m, empty())\n",
      "\u001b[1;31mTypeError\u001b[0m: on_change must be callable"
     ]
    }
   ],
   "source": [
    "def empty():\n",
    "    pass\n",
    "\n",
    "cv2.namedWindow(\"Parameters\")\n",
    "cv2.resizeWindow(\"Parameters\", 640, 240)\n",
    "cv2.createTrackbar(\"Threshold1\", \"Parameters\", 150, 255, empty())\n",
    "cv2.createTrackbar(\"Threshold2\", \"Parameters\", 255, 255, empty())"
   ]
  },
  {
   "cell_type": "code",
   "execution_count": null,
   "id": "c6199b7c",
   "metadata": {},
   "outputs": [],
   "source": [
    "img = cv2.imread(\"img_1.png\")\n",
    "img_blur = cv2.GaussianBlur(img, (7,7), 1)\n",
    "img_gray = cv2.cvtColor(img_blur, cv2.COLOR_BGR2GRAY)"
   ]
  },
  {
   "cell_type": "code",
   "execution_count": null,
   "id": "42125204",
   "metadata": {},
   "outputs": [],
   "source": [
    "threshold1 = cv2.getTrackbarPos(\"Threshold1\", \"Parameters\")\n",
    "threshold2 = cv2.getTrackbarPos(\"Threshold2\", \"Parameters\")\n",
    "img_Canny = cv2.Canny(img_gray, 22, 23)"
   ]
  },
  {
   "cell_type": "code",
   "execution_count": null,
   "id": "c0edbb9f",
   "metadata": {},
   "outputs": [],
   "source": []
  }
 ],
 "metadata": {
  "kernelspec": {
   "display_name": "Python 3 (ipykernel)",
   "language": "python",
   "name": "python3"
  },
  "language_info": {
   "codemirror_mode": {
    "name": "ipython",
    "version": 3
   },
   "file_extension": ".py",
   "mimetype": "text/x-python",
   "name": "python",
   "nbconvert_exporter": "python",
   "pygments_lexer": "ipython3",
   "version": "3.11.5"
  }
 },
 "nbformat": 4,
 "nbformat_minor": 5
}
